{
  "nbformat": 4,
  "nbformat_minor": 0,
  "metadata": {
    "colab": {
      "name": "cropper.ipynb",
      "provenance": [],
      "authorship_tag": "ABX9TyOIDA2wRF5/9n2GcltDPIwq",
      "include_colab_link": true
    },
    "kernelspec": {
      "name": "python3",
      "display_name": "Python 3"
    },
    "language_info": {
      "name": "python"
    }
  },
  "cells": [
    {
      "cell_type": "markdown",
      "metadata": {
        "id": "view-in-github",
        "colab_type": "text"
      },
      "source": [
        "<a href=\"https://colab.research.google.com/github/hmh100298/CMND/blob/main/cropper.ipynb\" target=\"_parent\"><img src=\"https://colab.research.google.com/assets/colab-badge.svg\" alt=\"Open In Colab\"/></a>"
      ]
    },
    {
      "cell_type": "code",
      "metadata": {
        "colab": {
          "base_uri": "https://localhost:8080/"
        },
        "id": "0b6DKk1VxzYt",
        "outputId": "7acce57e-4b97-41b1-b752-ca5e716490d6"
      },
      "source": [
        "!git clone https://github.com/hmh100298/CMND.git"
      ],
      "execution_count": 9,
      "outputs": [
        {
          "output_type": "stream",
          "text": [
            "Cloning into 'CMND'...\n",
            "remote: Enumerating objects: 326, done.\u001b[K\n",
            "remote: Counting objects: 100% (326/326), done.\u001b[K\n",
            "remote: Compressing objects: 100% (165/165), done.\u001b[K\n",
            "remote: Total 326 (delta 157), reused 322 (delta 156), pack-reused 0\u001b[K\n",
            "Receiving objects: 100% (326/326), 23.71 MiB | 24.21 MiB/s, done.\n",
            "Resolving deltas: 100% (157/157), done.\n"
          ],
          "name": "stdout"
        }
      ]
    },
    {
      "cell_type": "code",
      "metadata": {
        "id": "d7Og6BHIyXjQ"
      },
      "source": [
        "!python /content/CMND/partion_dataset.py -i /content/CMND/Dataset -x -r 0.1\n"
      ],
      "execution_count": 15,
      "outputs": []
    },
    {
      "cell_type": "code",
      "metadata": {
        "id": "MgxdVuZlAw2o"
      },
      "source": [
        ""
      ],
      "execution_count": null,
      "outputs": []
    },
    {
      "cell_type": "code",
      "metadata": {
        "id": "K2ezBN46zFfj",
        "colab": {
          "base_uri": "https://localhost:8080/"
        },
        "outputId": "e2d97885-f051-4959-a4ed-204438efa96b"
      },
      "source": [
        "!if [ -d '/content/CMND/TrainValDataset' ]; then echo \"Directory already exist\" ;fi\n"
      ],
      "execution_count": 14,
      "outputs": [
        {
          "output_type": "stream",
          "text": [
            "Directory already exist\n"
          ],
          "name": "stdout"
        }
      ]
    },
    {
      "cell_type": "code",
      "metadata": {
        "id": "LW4T14KwAF09"
      },
      "source": [
        ""
      ],
      "execution_count": null,
      "outputs": []
    }
  ]
}