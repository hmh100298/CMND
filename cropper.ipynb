{
  "nbformat": 4,
  "nbformat_minor": 0,
  "metadata": {
    "colab": {
      "name": "cropper_1.ipynb",
      "provenance": [],
      "collapsed_sections": [],
      "mount_file_id": "1XbKLnnt-QndrbNrirtmUiNLSpVv90cmw",
      "authorship_tag": "ABX9TyOK++NncmgIPZ6l11Skp5L/",
      "include_colab_link": true
    },
    "kernelspec": {
      "name": "python3",
      "display_name": "Python 3"
    },
    "language_info": {
      "name": "python"
    }
  },
  "cells": [
    {
      "cell_type": "markdown",
      "metadata": {
        "id": "view-in-github",
        "colab_type": "text"
      },
      "source": [
        "<a href=\"https://colab.research.google.com/github/hmh100298/CMND/blob/main/cropper.ipynb\" target=\"_parent\"><img src=\"https://colab.research.google.com/assets/colab-badge.svg\" alt=\"Open In Colab\"/></a>"
      ]
    },
    {
      "cell_type": "code",
      "metadata": {
        "colab": {
          "base_uri": "https://localhost:8080/"
        },
        "id": "Bq682INcEl8a",
        "outputId": "764fb70e-248f-4595-b881-040a04194f47"
      },
      "source": [
        "!git clone https://github.com/hmh100298/CMND.git"
      ],
      "execution_count": 44,
      "outputs": [
        {
          "output_type": "stream",
          "text": [
            "Cloning into 'CMND'...\n",
            "remote: Enumerating objects: 358, done.\u001b[K\n",
            "remote: Counting objects:   0% (1/358)\u001b[K\rremote: Counting objects:   1% (4/358)\u001b[K\rremote: Counting objects:   2% (8/358)\u001b[K\rremote: Counting objects:   3% (11/358)\u001b[K\rremote: Counting objects:   4% (15/358)\u001b[K\rremote: Counting objects:   5% (18/358)\u001b[K\rremote: Counting objects:   6% (22/358)\u001b[K\rremote: Counting objects:   7% (26/358)\u001b[K\rremote: Counting objects:   8% (29/358)\u001b[K\rremote: Counting objects:   9% (33/358)\u001b[K\rremote: Counting objects:  10% (36/358)\u001b[K\rremote: Counting objects:  11% (40/358)\u001b[K\rremote: Counting objects:  12% (43/358)\u001b[K\rremote: Counting objects:  13% (47/358)\u001b[K\rremote: Counting objects:  14% (51/358)\u001b[K\rremote: Counting objects:  15% (54/358)\u001b[K\rremote: Counting objects:  16% (58/358)\u001b[K\rremote: Counting objects:  17% (61/358)\u001b[K\rremote: Counting objects:  18% (65/358)\u001b[K\rremote: Counting objects:  19% (69/358)\u001b[K\rremote: Counting objects:  20% (72/358)\u001b[K\rremote: Counting objects:  21% (76/358)\u001b[K\rremote: Counting objects:  22% (79/358)\u001b[K\rremote: Counting objects:  23% (83/358)\u001b[K\rremote: Counting objects:  24% (86/358)\u001b[K\rremote: Counting objects:  25% (90/358)\u001b[K\rremote: Counting objects:  26% (94/358)\u001b[K\rremote: Counting objects:  27% (97/358)\u001b[K\rremote: Counting objects:  28% (101/358)\u001b[K\rremote: Counting objects:  29% (104/358)\u001b[K\rremote: Counting objects:  30% (108/358)\u001b[K\rremote: Counting objects:  31% (111/358)\u001b[K\rremote: Counting objects:  32% (115/358)\u001b[K\rremote: Counting objects:  33% (119/358)\u001b[K\rremote: Counting objects:  34% (122/358)\u001b[K\rremote: Counting objects:  35% (126/358)\u001b[K\rremote: Counting objects:  36% (129/358)\u001b[K\rremote: Counting objects:  37% (133/358)\u001b[K\rremote: Counting objects:  38% (137/358)\u001b[K\rremote: Counting objects:  39% (140/358)\u001b[K\rremote: Counting objects:  40% (144/358)\u001b[K\rremote: Counting objects:  41% (147/358)\u001b[K\rremote: Counting objects:  42% (151/358)\u001b[K\rremote: Counting objects:  43% (154/358)\u001b[K\rremote: Counting objects:  44% (158/358)\u001b[K\rremote: Counting objects:  45% (162/358)\u001b[K\rremote: Counting objects:  46% (165/358)\u001b[K\rremote: Counting objects:  47% (169/358)\u001b[K\rremote: Counting objects:  48% (172/358)\u001b[K\rremote: Counting objects:  49% (176/358)\u001b[K\rremote: Counting objects:  50% (179/358)\u001b[K\rremote: Counting objects:  51% (183/358)\u001b[K\rremote: Counting objects:  52% (187/358)\u001b[K\rremote: Counting objects:  53% (190/358)\u001b[K\rremote: Counting objects:  54% (194/358)\u001b[K\rremote: Counting objects:  55% (197/358)\u001b[K\rremote: Counting objects:  56% (201/358)\u001b[K\rremote: Counting objects:  57% (205/358)\u001b[K\rremote: Counting objects:  58% (208/358)\u001b[K\rremote: Counting objects:  59% (212/358)\u001b[K\rremote: Counting objects:  60% (215/358)\u001b[K\rremote: Counting objects:  61% (219/358)\u001b[K\rremote: Counting objects:  62% (222/358)\u001b[K\rremote: Counting objects:  63% (226/358)\u001b[K\rremote: Counting objects:  64% (230/358)\u001b[K\rremote: Counting objects:  65% (233/358)\u001b[K\rremote: Counting objects:  66% (237/358)\u001b[K\rremote: Counting objects:  67% (240/358)\u001b[K\rremote: Counting objects:  68% (244/358)\u001b[K\rremote: Counting objects:  69% (248/358)\u001b[K\rremote: Counting objects:  70% (251/358)\u001b[K\rremote: Counting objects:  71% (255/358)\u001b[K\rremote: Counting objects:  72% (258/358)\u001b[K\rremote: Counting objects:  73% (262/358)\u001b[K\rremote: Counting objects:  74% (265/358)\u001b[K\rremote: Counting objects:  75% (269/358)\u001b[K\rremote: Counting objects:  76% (273/358)\u001b[K\rremote: Counting objects:  77% (276/358)\u001b[K\rremote: Counting objects:  78% (280/358)\u001b[K\rremote: Counting objects:  79% (283/358)\u001b[K\rremote: Counting objects:  80% (287/358)\u001b[K\rremote: Counting objects:  81% (290/358)\u001b[K\rremote: Counting objects:  82% (294/358)\u001b[K\rremote: Counting objects:  83% (298/358)\u001b[K\rremote: Counting objects:  84% (301/358)\u001b[K\rremote: Counting objects:  85% (305/358)\u001b[K\rremote: Counting objects:  86% (308/358)\u001b[K\rremote: Counting objects:  87% (312/358)\u001b[K\rremote: Counting objects:  88% (316/358)\u001b[K\rremote: Counting objects:  89% (319/358)\u001b[K\rremote: Counting objects:  90% (323/358)\u001b[K\rremote: Counting objects:  91% (326/358)\u001b[K\rremote: Counting objects:  92% (330/358)\u001b[K\rremote: Counting objects:  93% (333/358)\u001b[K\rremote: Counting objects:  94% (337/358)\u001b[K\rremote: Counting objects:  95% (341/358)\u001b[K\rremote: Counting objects:  96% (344/358)\u001b[K\rremote: Counting objects:  97% (348/358)\u001b[K\rremote: Counting objects:  98% (351/358)\u001b[K\rremote: Counting objects:  99% (355/358)\u001b[K\rremote: Counting objects: 100% (358/358)\u001b[K\rremote: Counting objects: 100% (358/358), done.\u001b[K\n",
            "remote: Compressing objects: 100% (185/185), done.\u001b[K\n",
            "remote: Total 358 (delta 178), reused 343 (delta 168), pack-reused 0\u001b[K\n",
            "Receiving objects: 100% (358/358), 23.72 MiB | 43.21 MiB/s, done.\n",
            "Resolving deltas: 100% (178/178), done.\n"
          ],
          "name": "stdout"
        }
      ]
    },
    {
      "cell_type": "code",
      "metadata": {
        "id": "O-_2HLtjHUCQ"
      },
      "source": [
        "!python /content/CMND/partion_dataset.py -i /content/CMND/Dataset -x -r 0.1\n"
      ],
      "execution_count": 46,
      "outputs": []
    }
  ]
}